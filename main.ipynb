{
 "cells": [
  {
   "cell_type": "code",
   "execution_count": 1,
   "id": "d597c1a6-9a1a-4cd0-b5e1-0dc8570e6f53",
   "metadata": {},
   "outputs": [],
   "source": [
    "import os\n",
    "import numpy as np\n",
    "import pandas as pd\n",
    "import nltk\n",
    "import re\n",
    "import contractions\n",
    "from wordcloud import WordCloud, ImageColorGenerator\n",
    "from PIL import Image\n",
    "import matplotlib.pyplot as plt\n",
    "\n",
    "from sklearn.linear_model import Ridge as R\n",
    "from sklearn.feature_extraction.text import TfidfVectorizer\n",
    "from sklearn.metrics import accuracy_score as acu\n",
    "\n",
    "from tensorflow.keras.preprocessing.text import Tokenizer\n",
    "from tensorflow.keras.preprocessing.sequence import pad_sequences\n",
    "from tensorflow.keras.layers import Input, LSTM, Embedding, Dropout, Bidirectional, Dense\n",
    "from tensorflow.keras import Model\n",
    "from tensorflow.keras.losses import BinaryCrossentropy, SparseCategoricalCrossentropy\n",
    "from keras.metrics import SparseCategoricalAccuracy, BinaryAccuracy\n",
    "from tensorflow.keras.optimizers import Adamax, Adam\n",
    "from tensorflow.math import rint, reduce_sum, divide, exp, subtract, greater_equal\n",
    "from tensorflow.math import round as rounding\n",
    "from tensorflow.random import set_seed\n",
    "from tensorflow import cast, constant\n",
    "from tensorflow.nn import softmax\n",
    "\n",
    "from plot_keras_history import plot_history\n",
    "\n",
    "from transformers import BertTokenizer, TFBertForSequenceClassification\n",
    "\n",
    "import gensim\n",
    "import gensim.downloader as api\n",
    "\n",
    "seed = 111\n",
    "np.random.seed(seed)\n",
    "set_seed(seed)"
   ]
  },
  {
   "cell_type": "code",
   "execution_count": 2,
   "id": "6edcb7b3-e130-4534-926a-6684e0adba2f",
   "metadata": {},
   "outputs": [],
   "source": [
    "# Get Data\n",
    "train, test = pd.read_csv(\"input/train.csv\"), pd.read_csv(\"input/test.csv\")\n",
    "y=train.target.values"
   ]
  },
  {
   "cell_type": "code",
   "execution_count": 3,
   "id": "0f471e8a-8285-4c63-a04c-2b4eaf9b56fe",
   "metadata": {},
   "outputs": [
    {
     "data": {
      "text/html": [
       "<div>\n",
       "<style scoped>\n",
       "    .dataframe tbody tr th:only-of-type {\n",
       "        vertical-align: middle;\n",
       "    }\n",
       "\n",
       "    .dataframe tbody tr th {\n",
       "        vertical-align: top;\n",
       "    }\n",
       "\n",
       "    .dataframe thead th {\n",
       "        text-align: right;\n",
       "    }\n",
       "</style>\n",
       "<table border=\"1\" class=\"dataframe\">\n",
       "  <thead>\n",
       "    <tr style=\"text-align: right;\">\n",
       "      <th></th>\n",
       "      <th>id</th>\n",
       "      <th>keyword</th>\n",
       "      <th>location</th>\n",
       "      <th>text</th>\n",
       "      <th>target</th>\n",
       "    </tr>\n",
       "  </thead>\n",
       "  <tbody>\n",
       "    <tr>\n",
       "      <th>0</th>\n",
       "      <td>1</td>\n",
       "      <td>NaN</td>\n",
       "      <td>NaN</td>\n",
       "      <td>Our Deeds are the Reason of this #earthquake M...</td>\n",
       "      <td>1</td>\n",
       "    </tr>\n",
       "    <tr>\n",
       "      <th>1</th>\n",
       "      <td>4</td>\n",
       "      <td>NaN</td>\n",
       "      <td>NaN</td>\n",
       "      <td>Forest fire near La Ronge Sask. Canada</td>\n",
       "      <td>1</td>\n",
       "    </tr>\n",
       "  </tbody>\n",
       "</table>\n",
       "</div>"
      ],
      "text/plain": [
       "   id keyword location                                               text  \\\n",
       "0   1     NaN      NaN  Our Deeds are the Reason of this #earthquake M...   \n",
       "1   4     NaN      NaN             Forest fire near La Ronge Sask. Canada   \n",
       "\n",
       "   target  \n",
       "0       1  \n",
       "1       1  "
      ]
     },
     "metadata": {},
     "output_type": "display_data"
    },
    {
     "data": {
      "text/html": [
       "<div>\n",
       "<style scoped>\n",
       "    .dataframe tbody tr th:only-of-type {\n",
       "        vertical-align: middle;\n",
       "    }\n",
       "\n",
       "    .dataframe tbody tr th {\n",
       "        vertical-align: top;\n",
       "    }\n",
       "\n",
       "    .dataframe thead th {\n",
       "        text-align: right;\n",
       "    }\n",
       "</style>\n",
       "<table border=\"1\" class=\"dataframe\">\n",
       "  <thead>\n",
       "    <tr style=\"text-align: right;\">\n",
       "      <th></th>\n",
       "      <th>id</th>\n",
       "      <th>keyword</th>\n",
       "      <th>location</th>\n",
       "      <th>text</th>\n",
       "    </tr>\n",
       "  </thead>\n",
       "  <tbody>\n",
       "    <tr>\n",
       "      <th>0</th>\n",
       "      <td>0</td>\n",
       "      <td>NaN</td>\n",
       "      <td>NaN</td>\n",
       "      <td>Just happened a terrible car crash</td>\n",
       "    </tr>\n",
       "    <tr>\n",
       "      <th>1</th>\n",
       "      <td>2</td>\n",
       "      <td>NaN</td>\n",
       "      <td>NaN</td>\n",
       "      <td>Heard about #earthquake is different cities, s...</td>\n",
       "    </tr>\n",
       "  </tbody>\n",
       "</table>\n",
       "</div>"
      ],
      "text/plain": [
       "   id keyword location                                               text\n",
       "0   0     NaN      NaN                 Just happened a terrible car crash\n",
       "1   2     NaN      NaN  Heard about #earthquake is different cities, s..."
      ]
     },
     "metadata": {},
     "output_type": "display_data"
    },
    {
     "data": {
      "text/plain": [
       "array([1, 1, 1, ..., 1, 1, 1])"
      ]
     },
     "metadata": {},
     "output_type": "display_data"
    }
   ],
   "source": [
    "display(train.head(2))\n",
    "display(test.head(2))\n",
    "display(y)"
   ]
  },
  {
   "cell_type": "code",
   "execution_count": 4,
   "id": "01934da2-fd34-4f19-9a8d-c3c04a77de76",
   "metadata": {},
   "outputs": [
    {
     "data": {
      "text/plain": [
       "['😀', '🙏', '🌀', '🗿', '🚀', '\\U0001f6ff', '\\U0001f1e0', '🇿', '✂', '➰', 'Ⓜ', '🉑']"
      ]
     },
     "execution_count": 4,
     "metadata": {},
     "output_type": "execute_result"
    }
   ],
   "source": [
    "# 이모지 리스트\n",
    "emojis = [\"\\U0001F600\", \"\\U0001F64F\", \"\\U0001F300\", \"\\U0001F5FF\", \"\\U0001F680\", \"\\U0001F6FF\", \"\\U0001F1E0\", \"\\U0001F1FF\", \"\\U00002702\", \"\\U000027B0\", \"\\U000024C2\", \"\\U0001F251\"]\n",
    "emojis"
   ]
  },
  {
   "cell_type": "code",
   "execution_count": 5,
   "id": "5004e365-1ac1-4026-ad87-9f8cd09ddf05",
   "metadata": {},
   "outputs": [],
   "source": [
    "# 스탑워즈 리스트\n",
    "stopWords = nltk.corpus.stopwords.words(\"english\")"
   ]
  },
  {
   "cell_type": "code",
   "execution_count": 6,
   "id": "23f019ce-2b6e-4abd-a00f-dcd69c49f4d0",
   "metadata": {},
   "outputs": [],
   "source": [
    "# 단어 토크나이저\n",
    "token = nltk.tokenize.RegexpTokenizer(r\"\\w+\")"
   ]
  },
  {
   "cell_type": "code",
   "execution_count": 7,
   "id": "df6bc6a9-f3da-4eb7-ab1d-08bd985233ca",
   "metadata": {},
   "outputs": [],
   "source": [
    "# 표제어 추출 기능\n",
    "lemmatizer = nltk.stem.WordNetLemmatizer()"
   ]
  },
  {
   "cell_type": "code",
   "execution_count": 8,
   "id": "36303f92-0228-416d-bd51-593991616c6f",
   "metadata": {},
   "outputs": [],
   "source": [
    "def cleaner(DF, labeled=True, stopWrds=True, Lemmatize=True, dropDigits=True, dropSinLet=True, c=\"text\"):\n",
    "    fake = []\n",
    "    real = []\n",
    "    data = []\n",
    "    col = np.where(DF.columns == c)[0][0]\n",
    "    for i, row in enumerate(DF.iterrows()):\n",
    "        sentence = row[1][col]\n",
    "        sentence = sentence.lower().split(\" \")\n",
    "        # remove emojis\n",
    "        sentence = [word for word in sentence if word not in emojis]\n",
    "        # remove http https @\n",
    "        sentence = [word for word in sentence if \"http\" not in word and \"https\" not in word and \"@\" not in word]\n",
    "        # you're -> you are, i'm -> I am\n",
    "        sentence = [contractions.fix(word) for word in sentence]\n",
    "        # merge string\n",
    "        sentence = \" \".join(sentence).lower()\n",
    "        sentence = token.tokenize(sentence)\n",
    "        if stopWrds == True:\n",
    "            sentence = [word for word in sentence if word not in stopWords]\n",
    "        if Lemmatize == True:\n",
    "            sentence = [lemmatizer.lemmatize(word) for word in sentence]\n",
    "        sentence = [word.strip() for word in sentence]\n",
    "        if dropDigits == True:\n",
    "            sentence = [word for word in sentence if not re.match(r\"\\S*\\d+\\S*\", word)]\n",
    "        sentence = [word for word in sentence if word != \"rt\" and word != \"û_\" and word != \"amp\" and word != \"ûª\" and word != \"ûªs\" and word != \"ûò\" and word != \"åè\" and word != \"ìñ1\"]\n",
    "        sentence = [re.sub(r\"(.)\\1{2,}\\B\", r\"\\1\\1\", word) for word in sentence]\n",
    "        sentence = [re.sub(r\"(.)\\1{2,}\\b\", r\"\\1\\1\", word) for word in sentence]\n",
    "        if dropSinLet == True:\n",
    "            sentence = [word for word in sentence if len(word) > 1]\n",
    "        sentence = [word for word in sentence if len(word) < 30]\n",
    "        if labeled == True:\n",
    "            if row[1][4] == 1:\n",
    "                fake.extend(sentence)\n",
    "            else:\n",
    "                real.extend(sentence)\n",
    "        data.append(\" \".join(sentence))\n",
    "    return data, fake, real"
   ]
  },
  {
   "cell_type": "code",
   "execution_count": 9,
   "id": "97e32ea8-709c-4d90-8c87-d34bde2f9027",
   "metadata": {},
   "outputs": [],
   "source": [
    "tr, F, T = cleaner(train)\n",
    "te, e, e = cleaner(test, labeled=False)"
   ]
  },
  {
   "cell_type": "code",
   "execution_count": 10,
   "id": "ce1a3490-b01d-4916-9dfb-e627eb54fdcf",
   "metadata": {},
   "outputs": [],
   "source": [
    "# EDA for frequency words\n",
    "np.random.seed(seed)\n",
    "r = np.random.uniform(low=0.0, high=1.0, size=train.shape[0])\n",
    "y_tr_val = y[r > 0.2]\n",
    "y_te_val = y[r <= 0.2]\n",
    "tr_val, _, _ = cleaner(train.loc[r > 0.2])\n",
    "te_val, _, _ = cleaner(train.loc[r <= 0.2], labeled=False)"
   ]
  },
  {
   "cell_type": "code",
   "execution_count": 12,
   "id": "663fb3d1-cb62-428e-9fe5-48afdd9d85f9",
   "metadata": {},
   "outputs": [
    {
     "data": {
      "image/png": "[encoded data removed]",
      "text/plain": [
       "<Figure size 1800x450 with 1 Axes>"
      ]
     },
     "metadata": {
      "needs_background": "light"
     },
     "output_type": "display_data"
    },
    {
     "data": {
      "image/png": "[encoded data removed]",
      "text/plain": [
       "<Figure size 1800x450 with 1 Axes>"
      ]
     },
     "metadata": {
      "needs_background": "light"
     },
     "output_type": "display_data"
    }
   ],
   "source": [
    "just_real = [w for w in T if w not in F]\n",
    "just_fake = [w for w in F if w not in T]\n",
    "Just_Real = nltk.probability.FreqDist()\n",
    "Just_Fake = nltk.probability.FreqDist()\n",
    "for w in just_real:\n",
    "    Just_Real[w] += 1\n",
    "for w in just_fake:\n",
    "    Just_Fake[w] += 1\n",
    "for C, W in {\"green\": Just_Real, \"red\": Just_Fake}.items():\n",
    "    Frequency = pd.DataFrame({\"Words\": list(W.keys()),\"Frequency\": list(W.values())})\n",
    "    Frequency = Frequency.sort_values(\"Frequency\", ascending=False).iloc[:15]\n",
    "    plt.figure(figsize=(20, 5), dpi=90)\n",
    "    if C == \"green\":\n",
    "        plt.title(\"Just Found in Real News\")\n",
    "    else:\n",
    "        plt.title(\"Just Found in Fake News\")\n",
    "    plt.bar(Frequency.Words, Frequency.Frequency, color=C, alpha=0.8)"
   ]
  },
  {
   "cell_type": "code",
   "execution_count": 13,
   "id": "83216ff1-4379-4454-a67c-12f91ba892d8",
   "metadata": {},
   "outputs": [],
   "source": [
    "# N-Grams model\n",
    "np.random.seed(seed)\n",
    "r = np.random.uniform(low=0.0, high=1.0, size=train.shape[0])\n",
    "y_tr_val = y[r > 0.2]\n",
    "y_te_val = y[r <= 0.2]\n",
    "tr_val, _, _ = cleaner(train.loc[r > 0.2])\n",
    "te_val, _, _ = cleaner(train.loc[r <= 0.2], labeled=False)\n",
    "\n",
    "before = [i for i in tr_val if tr_val.index(i) in [0, 2]]"
   ]
  },
  {
   "cell_type": "code",
   "execution_count": 18,
   "id": "aa01457e-e7ea-4aa6-a9b5-4436ff5c14e1",
   "metadata": {},
   "outputs": [],
   "source": [
    "vectorizer = TfidfVectorizer(min_df=2, max_df=0.2, analyzer='char_wb', ngram_range=(3,7))\n",
    "vectorizer.fit(tr_val + te_val)\n",
    "tr = vectorizer.transform(tr_val)\n",
    "te = vectorizer.transform(te_val)"
   ]
  },
  {
   "cell_type": "code",
   "execution_count": 19,
   "id": "d11c6e24-e9d1-4a76-b2ec-eec1e388a3c4",
   "metadata": {},
   "outputs": [],
   "source": [
    "model = R(alpha=0.2)"
   ]
  },
  {
   "cell_type": "code",
   "execution_count": 20,
   "id": "126a0d64-5a29-4063-ae58-bc0d77f018d7",
   "metadata": {},
   "outputs": [
    {
     "data": {
      "text/plain": [
       "Ridge(alpha=0.2)"
      ]
     },
     "execution_count": 20,
     "metadata": {},
     "output_type": "execute_result"
    }
   ],
   "source": [
    "model.fit(tr, y_tr_val)"
   ]
  },
  {
   "cell_type": "code",
   "execution_count": 21,
   "id": "eea815dc-3356-41c7-9a3b-0bccbb20b8a8",
   "metadata": {},
   "outputs": [],
   "source": [
    "Predictions = model.predict(te)\n",
    "Predictions = np.where(Predictions >= 0.8, 1, 0)"
   ]
  },
  {
   "cell_type": "code",
   "execution_count": 23,
   "id": "8048d47e-e1cf-44ba-9301-9acb71c63956",
   "metadata": {},
   "outputs": [
    {
     "name": "stdout",
     "output_type": "stream",
     "text": [
      "Accuracy using N-Grams is: 74.31 %\n"
     ]
    }
   ],
   "source": [
    "print(\"Accuracy using N-Grams is:\", np.round(acu(Predictions, y_te_val)*100, 2), \"%\")"
   ]
  },
  {
   "cell_type": "code",
   "execution_count": 25,
   "id": "106f57e4-3b60-4a8f-af36-1d9d21785bfa",
   "metadata": {},
   "outputs": [],
   "source": [
    "# LSTM\n",
    "np.random.seed(seed)\n",
    "r = np.random.uniform(low = 0.0, high = 1.0, size = train.shape[0])\n",
    "y_tr_val = y[r > 0.2]\n",
    "y_te_val = y[r <= 0.2]\n",
    "tr_val, _, _ = cleaner(train.loc[r > 0.2], stopWrds=False, Lemmatize=False, dropDigits=True, dropSinLet=False)\n",
    "te_val, _, _ = cleaner(train.loc[r <= 0.2], stopWrds=False, Lemmatize=False, dropDigits=True, dropSinLet=False, labeled=False)\n",
    "\n",
    "before = [i for i in tr_val if tr_val.index(i) in [0,2]]"
   ]
  },
  {
   "cell_type": "code",
   "execution_count": 26,
   "id": "2d6cd06b-3622-4e37-b0b7-7e6e49525b1f",
   "metadata": {},
   "outputs": [
    {
     "name": "stdout",
     "output_type": "stream",
     "text": [
      "Before: \n",
      "['our deeds are the reason of this earthquake may allah forgive us all', 'people receive wildfires evacuation orders in california']\n",
      "\n",
      "After: \n",
      "[[106, 3646, 17, 1, 698, 6, 21, 339, 131, 1553, 5393, 72, 40], [56, 3647, 1403, 205, 1293, 4, 85]]\n"
     ]
    }
   ],
   "source": [
    "tokenizer = Tokenizer(num_words=None)\n",
    "tokenizer.fit_on_texts(tr_val)\n",
    "tr_val = tokenizer.texts_to_sequences(tr_val)\n",
    "te_val = tokenizer.texts_to_sequences(te_val)\n",
    "\n",
    "vocabulary_size_val = len(tokenizer.index_word)+1\n",
    "\n",
    "after = [i for i in tr_val if tr_val.index(i) in [0,2]]\n",
    "\n",
    "print(\"Before: \\n\" + str(before) + \"\\n\\n\" + \"After: \\n\" + str(after))"
   ]
  },
  {
   "cell_type": "code",
   "execution_count": 27,
   "id": "fade0d1f-d61f-411e-8dd7-337628705ae7",
   "metadata": {},
   "outputs": [],
   "source": [
    "length_val=max([max([len(i) for i in tr_val]), max([len(i) for i in te_val])])"
   ]
  },
  {
   "cell_type": "code",
   "execution_count": 28,
   "id": "926b5c36-9473-471e-b712-e2bafa7f1686",
   "metadata": {},
   "outputs": [
    {
     "name": "stdout",
     "output_type": "stream",
     "text": [
      "After Padding to a length of: 31\n",
      "\n",
      "[[ 106 3646   17    1  698    6   21  339  131 1553 5393   72   40    0\n",
      "     0    0    0    0    0    0    0    0    0    0    0    0    0    0\n",
      "     0    0    0]\n",
      " [  56 3647 1403  205 1293    4   85    0    0    0    0    0    0    0\n",
      "     0    0    0    0    0    0    0    0    0    0    0    0    0    0\n",
      "     0    0    0]]\n"
     ]
    }
   ],
   "source": [
    "tr_val = pad_sequences(tr_val, padding='post', maxlen=length_val)\n",
    "te_val = pad_sequences(te_val, padding='post', maxlen=length_val)\n",
    "\n",
    "print(\"After Padding to a length of: \" + str(length_val) + \"\\n\\n\" + str(tr_val[[0,2]]))"
   ]
  },
  {
   "cell_type": "code",
   "execution_count": 29,
   "id": "3f86d1b5-a005-4575-bc31-22f662617d34",
   "metadata": {},
   "outputs": [],
   "source": [
    "def BiDirLSTM(vocSize, inpShape, seeds = seed):\n",
    "    np.random.seed(seeds)\n",
    "    set_seed(seeds)\n",
    "    inp = Input(shape=(inpShape), name=\"input\")\n",
    "    emb = Embedding(input_dim=vocSize, output_dim=4)(inp)\n",
    "    drop = Dropout(0.3)(emb)\n",
    "    biLstm = Bidirectional(LSTM(units=16, activation='tanh', return_sequences=True, stateful=False, recurrent_dropout=0.4, dropout=0.4))(drop)\n",
    "    biLstm = Bidirectional(LSTM(units=8, activation='tanh', return_sequences=False, stateful=False, recurrent_dropout=0.3, dropout=0.3))(biLstm)\n",
    "    out = Dense(units=1, activation=\"sigmoid\")(biLstm)\n",
    "    m = Model(inputs=inp, outputs=out)\n",
    "    m.summary()\n",
    "    return m"
   ]
  },
  {
   "cell_type": "code",
   "execution_count": 30,
   "id": "a93cab28-dfd6-4630-b7c2-821afa900d64",
   "metadata": {},
   "outputs": [
    {
     "name": "stderr",
     "output_type": "stream",
     "text": [
      "2022-03-23 10:45:23.453914: I tensorflow/core/platform/cpu_feature_guard.cc:151] This TensorFlow binary is optimized with oneAPI Deep Neural Network Library (oneDNN) to use the following CPU instructions in performance-critical operations:  AVX2 FMA\n",
      "To enable them in other operations, rebuild TensorFlow with the appropriate compiler flags.\n"
     ]
    },
    {
     "name": "stdout",
     "output_type": "stream",
     "text": [
      "Model: \"model\"\n",
      "_________________________________________________________________\n",
      " Layer (type)                Output Shape              Param #   \n",
      "=================================================================\n",
      " input (InputLayer)          [(None, 31)]              0         \n",
      "                                                                 \n",
      " embedding (Embedding)       (None, 31, 4)             48976     \n",
      "                                                                 \n",
      " dropout (Dropout)           (None, 31, 4)             0         \n",
      "                                                                 \n",
      " bidirectional (Bidirectiona  (None, 31, 32)           2688      \n",
      " l)                                                              \n",
      "                                                                 \n",
      " bidirectional_1 (Bidirectio  (None, 16)               2624      \n",
      " nal)                                                            \n",
      "                                                                 \n",
      " dense (Dense)               (None, 1)                 17        \n",
      "                                                                 \n",
      "=================================================================\n",
      "Total params: 54,305\n",
      "Trainable params: 54,305\n",
      "Non-trainable params: 0\n",
      "_________________________________________________________________\n"
     ]
    }
   ],
   "source": [
    "model = BiDirLSTM(vocabulary_size_val, length_val)"
   ]
  },
  {
   "cell_type": "code",
   "execution_count": 32,
   "id": "6942cb6a-3a34-4e81-bf02-7c47928ef38e",
   "metadata": {},
   "outputs": [],
   "source": [
    "optimizer = Adamax(learning_rate=0.01, decay=0.0005, clipvalue=10)"
   ]
  },
  {
   "cell_type": "code",
   "execution_count": 33,
   "id": "235b3d35-95e6-4078-9119-603324d6089e",
   "metadata": {},
   "outputs": [],
   "source": [
    "loss = BinaryCrossentropy(label_smoothing=0.01)"
   ]
  },
  {
   "cell_type": "code",
   "execution_count": 34,
   "id": "683d9d87-a3df-4c88-95a4-1392fdca4b5a",
   "metadata": {},
   "outputs": [],
   "source": [
    "model.compile(optimizer=optimizer, loss=loss, metrics=[\"accuracy\"])"
   ]
  },
  {
   "cell_type": "code",
   "execution_count": 35,
   "id": "aef09236-c220-47a9-8937-ebd4ddf1e923",
   "metadata": {},
   "outputs": [
    {
     "name": "stdout",
     "output_type": "stream",
     "text": [
      "Epoch 1/10\n",
      "64/64 [==============================] - 10s 67ms/step - loss: 0.6536 - accuracy: 0.6053 - val_loss: 0.5866 - val_accuracy: 0.7220\n",
      "Epoch 2/10\n",
      "64/64 [==============================] - 4s 57ms/step - loss: 0.5230 - accuracy: 0.7500 - val_loss: 0.4932 - val_accuracy: 0.7740\n",
      "Epoch 3/10\n",
      "64/64 [==============================] - 4s 57ms/step - loss: 0.4582 - accuracy: 0.7977 - val_loss: 0.4841 - val_accuracy: 0.7701\n",
      "Epoch 4/10\n",
      "64/64 [==============================] - 4s 58ms/step - loss: 0.4258 - accuracy: 0.8179 - val_loss: 0.4699 - val_accuracy: 0.7931\n",
      "Epoch 5/10\n",
      "64/64 [==============================] - 4s 57ms/step - loss: 0.3933 - accuracy: 0.8361 - val_loss: 0.4934 - val_accuracy: 0.7971\n",
      "Epoch 6/10\n",
      "64/64 [==============================] - 4s 58ms/step - loss: 0.3680 - accuracy: 0.8469 - val_loss: 0.4706 - val_accuracy: 0.7931\n",
      "Epoch 7/10\n",
      "64/64 [==============================] - 4s 57ms/step - loss: 0.3464 - accuracy: 0.8597 - val_loss: 0.5048 - val_accuracy: 0.8011\n",
      "Epoch 8/10\n",
      "64/64 [==============================] - 4s 58ms/step - loss: 0.3291 - accuracy: 0.8701 - val_loss: 0.4981 - val_accuracy: 0.7958\n",
      "Epoch 9/10\n",
      "64/64 [==============================] - 4s 58ms/step - loss: 0.3210 - accuracy: 0.8779 - val_loss: 0.4865 - val_accuracy: 0.8004\n",
      "Epoch 10/10\n",
      "64/64 [==============================] - 4s 59ms/step - loss: 0.2923 - accuracy: 0.8874 - val_loss: 0.5244 - val_accuracy: 0.7892\n"
     ]
    }
   ],
   "source": [
    "history = model.fit(x=tr_val, y=y_tr_val, validation_data=(te_val, y_te_val), epochs=10, batch_size=96, shuffle=True, verbose=1)"
   ]
  },
  {
   "cell_type": "code",
   "execution_count": 36,
   "id": "818a7a5f-0bd6-4fa8-ba53-2d8ec6fdd41c",
   "metadata": {},
   "outputs": [
    {
     "data": {
      "image/png": "[encoded data removed]",
      "text/plain": [
       "<Figure size 720x360 with 2 Axes>"
      ]
     },
     "metadata": {
      "needs_background": "light"
     },
     "output_type": "display_data"
    }
   ],
   "source": [
    "plot_history(history)\n",
    "plt.show()"
   ]
  },
  {
   "cell_type": "code",
   "execution_count": 37,
   "id": "a2b7fc43-1817-4fe4-bf37-2ac571b23f91",
   "metadata": {},
   "outputs": [],
   "source": [
    "tr, F, T = cleaner(train, stopWrds=False, Lemmatize=False, dropDigits=True, dropSinLet=False)\n",
    "te, _, _ = cleaner(test, stopWrds=False, Lemmatize=False, dropDigits=True, dropSinLet=False, labeled=False)"
   ]
  },
  {
   "cell_type": "code",
   "execution_count": 38,
   "id": "d1394ab2-1af6-42e2-8183-8e4ff24c2015",
   "metadata": {},
   "outputs": [],
   "source": [
    "tokenizer = Tokenizer(num_words=None)\n",
    "tokenizer.fit_on_texts(tr)\n",
    "tr = tokenizer.texts_to_sequences(tr)\n",
    "te = tokenizer.texts_to_sequences(te)\n",
    "\n",
    "vocabulary_size = len(tokenizer.index_word)+1"
   ]
  },
  {
   "cell_type": "code",
   "execution_count": 39,
   "id": "e76272d3-0ef0-48b5-b649-29c7440f7d30",
   "metadata": {},
   "outputs": [],
   "source": [
    "length = max([max([len(i) for i in tr]), max([len(i) for i in te])])"
   ]
  },
  {
   "cell_type": "code",
   "execution_count": 40,
   "id": "b1e89515-9f78-47e9-bbc0-cd982b134990",
   "metadata": {},
   "outputs": [],
   "source": [
    "tr = pad_sequences(tr, padding='post', maxlen=length)\n",
    "te = pad_sequences(te, padding='post', maxlen=length)"
   ]
  },
  {
   "cell_type": "code",
   "execution_count": 41,
   "id": "b2ada38e-a6e1-4c41-bf0f-5c73c9396268",
   "metadata": {},
   "outputs": [
    {
     "name": "stdout",
     "output_type": "stream",
     "text": [
      "Model: \"model_1\"\n",
      "_________________________________________________________________\n",
      " Layer (type)                Output Shape              Param #   \n",
      "=================================================================\n",
      " input (InputLayer)          [(None, 32)]              0         \n",
      "                                                                 \n",
      " embedding_1 (Embedding)     (None, 32, 4)             55600     \n",
      "                                                                 \n",
      " dropout_1 (Dropout)         (None, 32, 4)             0         \n",
      "                                                                 \n",
      " bidirectional_2 (Bidirectio  (None, 32, 32)           2688      \n",
      " nal)                                                            \n",
      "                                                                 \n",
      " bidirectional_3 (Bidirectio  (None, 16)               2624      \n",
      " nal)                                                            \n",
      "                                                                 \n",
      " dense_1 (Dense)             (None, 1)                 17        \n",
      "                                                                 \n",
      "=================================================================\n",
      "Total params: 60,929\n",
      "Trainable params: 60,929\n",
      "Non-trainable params: 0\n",
      "_________________________________________________________________\n"
     ]
    }
   ],
   "source": [
    "model = BiDirLSTM(vocabulary_size, length)"
   ]
  },
  {
   "cell_type": "code",
   "execution_count": 42,
   "id": "89f17706-a5e5-4ce1-a743-ab3572aeeea7",
   "metadata": {},
   "outputs": [],
   "source": [
    "model.compile(optimizer=optimizer, loss=loss, metrics=[\"accuracy\"])"
   ]
  },
  {
   "cell_type": "code",
   "execution_count": 43,
   "id": "0010f0df-2edd-4451-b2c1-860710a5a311",
   "metadata": {},
   "outputs": [],
   "source": [
    "history = model.fit(x=tr, y=y, epochs=10, batch_size=96, shuffle=True, verbose=0)"
   ]
  },
  {
   "cell_type": "code",
   "execution_count": 44,
   "id": "f3266074-069c-400a-acd5-ec385e6e3e9f",
   "metadata": {},
   "outputs": [],
   "source": [
    "Predictions = model.predict(x=te)"
   ]
  },
  {
   "cell_type": "code",
   "execution_count": 45,
   "id": "8c780a19-2534-468c-a9b8-c1eb2ebd55f7",
   "metadata": {},
   "outputs": [
    {
     "data": {
      "image/png": "[encoded data removed]",
      "text/plain": [
       "<Figure size 800x400 with 1 Axes>"
      ]
     },
     "metadata": {
      "needs_background": "light"
     },
     "output_type": "display_data"
    }
   ],
   "source": [
    "baseline = Predictions\n",
    "plt.figure(figsize = (10,5), dpi = 80)\n",
    "plt.hist(baseline, bins=32, color='g', label='baseline')\n",
    "plt.title('Probabilities Distribution')\n",
    "plt.show()"
   ]
  },
  {
   "cell_type": "code",
   "execution_count": 47,
   "id": "da42300d-6f6d-4b05-823a-d263243efee3",
   "metadata": {},
   "outputs": [],
   "source": [
    "subm = pd.read_csv(\"input/sample_submission.csv\")"
   ]
  },
  {
   "cell_type": "code",
   "execution_count": 48,
   "id": "dafced83-d20a-4c16-a6c2-4b86a6e009a0",
   "metadata": {},
   "outputs": [
    {
     "data": {
      "text/html": [
       "<div>\n",
       "<style scoped>\n",
       "    .dataframe tbody tr th:only-of-type {\n",
       "        vertical-align: middle;\n",
       "    }\n",
       "\n",
       "    .dataframe tbody tr th {\n",
       "        vertical-align: top;\n",
       "    }\n",
       "\n",
       "    .dataframe thead th {\n",
       "        text-align: right;\n",
       "    }\n",
       "</style>\n",
       "<table border=\"1\" class=\"dataframe\">\n",
       "  <thead>\n",
       "    <tr style=\"text-align: right;\">\n",
       "      <th></th>\n",
       "      <th>id</th>\n",
       "      <th>target</th>\n",
       "    </tr>\n",
       "  </thead>\n",
       "  <tbody>\n",
       "    <tr>\n",
       "      <th>0</th>\n",
       "      <td>0</td>\n",
       "      <td>1</td>\n",
       "    </tr>\n",
       "    <tr>\n",
       "      <th>1</th>\n",
       "      <td>2</td>\n",
       "      <td>1</td>\n",
       "    </tr>\n",
       "    <tr>\n",
       "      <th>2</th>\n",
       "      <td>3</td>\n",
       "      <td>1</td>\n",
       "    </tr>\n",
       "    <tr>\n",
       "      <th>3</th>\n",
       "      <td>9</td>\n",
       "      <td>0</td>\n",
       "    </tr>\n",
       "    <tr>\n",
       "      <th>4</th>\n",
       "      <td>11</td>\n",
       "      <td>1</td>\n",
       "    </tr>\n",
       "    <tr>\n",
       "      <th>5</th>\n",
       "      <td>12</td>\n",
       "      <td>1</td>\n",
       "    </tr>\n",
       "    <tr>\n",
       "      <th>6</th>\n",
       "      <td>21</td>\n",
       "      <td>0</td>\n",
       "    </tr>\n",
       "  </tbody>\n",
       "</table>\n",
       "</div>"
      ],
      "text/plain": [
       "   id  target\n",
       "0   0       1\n",
       "1   2       1\n",
       "2   3       1\n",
       "3   9       0\n",
       "4  11       1\n",
       "5  12       1\n",
       "6  21       0"
      ]
     },
     "execution_count": 48,
     "metadata": {},
     "output_type": "execute_result"
    }
   ],
   "source": [
    "subm[\"target\"] = [1 if i > 0.5 else 0 for i in Predictions]\n",
    "subm.head(7)"
   ]
  },
  {
   "cell_type": "code",
   "execution_count": 49,
   "id": "4fee7e95-4995-4522-9cd9-3a54936c1bc2",
   "metadata": {},
   "outputs": [],
   "source": [
    "subm.to_csv(\"Submission_Basic.csv\", index=False)"
   ]
  },
  {
   "cell_type": "code",
   "execution_count": 51,
   "id": "7dd1af3c-9664-4246-ad82-b320bce24bf8",
   "metadata": {},
   "outputs": [],
   "source": [
    "# word2vec with gensim\n",
    "tr, F, T = cleaner(train, stopWrds=False, Lemmatize=False, dropDigits=True, dropSinLet=False)\n",
    "te, o, o = cleaner(test, stopWrds=False, Lemmatize=False, dropDigits=True, dropSinLet=False, labeled=False)\n",
    "\n",
    "np.random.seed(seed)\n",
    "r = np.random.uniform(low = 0.0, high = 1.0, size = train.shape[0])\n",
    "y_tr_val = y[r > 0.2]\n",
    "y_te_val = y[r <= 0.2]\n",
    "tr_val, _, _ = cleaner(train.loc[r > 0.2], stopWrds=False, Lemmatize=False, dropDigits=True, dropSinLet=False)\n",
    "te_val, _, _ = cleaner(train.loc[r <= 0.2], stopWrds=False, Lemmatize=False, dropDigits=True, dropSinLet=False, labeled=False)"
   ]
  },
  {
   "cell_type": "code",
   "execution_count": 52,
   "id": "27aeeea3-0eb7-4aeb-9133-1799a4783ed5",
   "metadata": {},
   "outputs": [],
   "source": [
    "emb = [s.split(\" \") for s in tr]\n",
    "emb.extend([s.split(\" \") for s in te])"
   ]
  },
  {
   "cell_type": "code",
   "execution_count": 53,
   "id": "dfd42447-c991-4b24-8118-6e633b2e5917",
   "metadata": {},
   "outputs": [
    {
     "name": "stdout",
     "output_type": "stream",
     "text": [
      "fire is buildings\n",
      "flood is combo\n",
      "died is bringing\n",
      "accident is airplane\n",
      "closed is multiple\n",
      "help is control\n",
      "twitter is weird\n",
      "air is helicopter\n",
      "everything is okay\n"
     ]
    }
   ],
   "source": [
    "w2v = gensim.models.Word2Vec(emb, min_count=4, workers=4, window=5, sg=1)\n",
    "words=[\"fire\", \"flood\", \"died\", \"accident\", \"closed\", \"help\", \"twitter\", \"air\", \"everything\"]\n",
    "for w in words:\n",
    "    print(w + \" is \" + w2v.wv.most_similar(w, topn=1)[0][0])"
   ]
  },
  {
   "cell_type": "code",
   "execution_count": 54,
   "id": "62ffbd20-2838-4405-be3e-6d594fa9269d",
   "metadata": {},
   "outputs": [],
   "source": [
    "def wordChanger(trainList, testList, minSimilar=0.5, numPrint=300):\n",
    "    te_listList = [s.split(\" \") for s in testList]\n",
    "    tr_uniques=set(\" \".join(trainList).split(\" \"))\n",
    "    wc = 0\n",
    "    try:\n",
    "        for i, s in enumerate(te_listList):\n",
    "            for j, w in enumerate(s):\n",
    "                if w not in tr_uniques and w in w2v.wv.index_to_key and w2v.wv.most_similar(w, topn=1)[0][0] in tr_uniques \\\n",
    "                and w2v.wv.most_similar(w, topn=1)[0][1] >= minSimilar:\n",
    "                    te_listList[i][j] = w2v.wv.most_similar(w, topn=1)[0][0]\n",
    "                    wc += 1\n",
    "                    if i < numPrint:\n",
    "                        print(w + \" changed in \" + w2v.wv.most_similar(w, topn = 1)[0][0])\n",
    "    except Error as e:\n",
    "        print(w + \" Err: \" + e)\n",
    "    print(str(wc) + \" words changed\")\n",
    "    te_listList = [\" \".join(s) for s in te_listList]\n",
    "    return te_listList"
   ]
  },
  {
   "cell_type": "code",
   "execution_count": 55,
   "id": "73880c9e-d8f7-42de-8ffd-613dac78f665",
   "metadata": {},
   "outputs": [
    {
     "name": "stdout",
     "output_type": "stream",
     "text": [
      "kiss changed in cast\n",
      "coahuila changed in tennessee\n",
      "coahuila changed in tennessee\n",
      "esp changed in bath\n",
      "salvation changed in cyclist\n",
      "salvation changed in cyclist\n",
      "preseason changed in ems\n",
      "esp changed in bath\n",
      "keeping changed in struggle\n",
      "higher changed in exploit\n",
      "higher changed in exploit\n",
      "48 words changed\n"
     ]
    }
   ],
   "source": [
    "te_val = wordChanger(tr_val, te_val)"
   ]
  },
  {
   "cell_type": "code",
   "execution_count": 56,
   "id": "f609fcc0-072d-4377-8c19-b9c5847a2a0e",
   "metadata": {},
   "outputs": [],
   "source": [
    "tokenizer = Tokenizer(num_words=None)\n",
    "tokenizer.fit_on_texts(tr_val)\n",
    "tr_val = tokenizer.texts_to_sequences(tr_val)\n",
    "te_val = tokenizer.texts_to_sequences(te_val)\n",
    "\n",
    "vocabulary_size_val = len(tokenizer.index_word) + 1"
   ]
  },
  {
   "cell_type": "code",
   "execution_count": 57,
   "id": "ccdf56e5-65ea-4415-87f1-c972225bfb48",
   "metadata": {},
   "outputs": [],
   "source": [
    "length_val = max([max([len(i) for i in tr_val]), max([len(i) for i in te_val])])"
   ]
  },
  {
   "cell_type": "code",
   "execution_count": 58,
   "id": "64e56f42-37b7-419d-91a2-4bc3fd539cee",
   "metadata": {},
   "outputs": [],
   "source": [
    "tr_val = pad_sequences(tr_val, padding='post', maxlen=length_val)\n",
    "te_val = pad_sequences(te_val, padding='post', maxlen=length_val)"
   ]
  },
  {
   "cell_type": "code",
   "execution_count": 59,
   "id": "4aae0998-3f31-4fca-b4d7-922daf4854f2",
   "metadata": {},
   "outputs": [
    {
     "name": "stdout",
     "output_type": "stream",
     "text": [
      "Model: \"model_2\"\n",
      "_________________________________________________________________\n",
      " Layer (type)                Output Shape              Param #   \n",
      "=================================================================\n",
      " input (InputLayer)          [(None, 31)]              0         \n",
      "                                                                 \n",
      " embedding_2 (Embedding)     (None, 31, 4)             48976     \n",
      "                                                                 \n",
      " dropout_2 (Dropout)         (None, 31, 4)             0         \n",
      "                                                                 \n",
      " bidirectional_4 (Bidirectio  (None, 31, 32)           2688      \n",
      " nal)                                                            \n",
      "                                                                 \n",
      " bidirectional_5 (Bidirectio  (None, 16)               2624      \n",
      " nal)                                                            \n",
      "                                                                 \n",
      " dense_2 (Dense)             (None, 1)                 17        \n",
      "                                                                 \n",
      "=================================================================\n",
      "Total params: 54,305\n",
      "Trainable params: 54,305\n",
      "Non-trainable params: 0\n",
      "_________________________________________________________________\n"
     ]
    }
   ],
   "source": [
    "model = BiDirLSTM(vocabulary_size_val, length_val)"
   ]
  },
  {
   "cell_type": "code",
   "execution_count": 60,
   "id": "a7a7dfd5-77e1-4ec3-ac2a-b0b38504d17c",
   "metadata": {},
   "outputs": [],
   "source": [
    "model.compile(optimizer=optimizer, loss=loss, metrics=[\"accuracy\"])"
   ]
  },
  {
   "cell_type": "code",
   "execution_count": 61,
   "id": "4ecf04f2-9a29-46c0-852e-a5efd7a23011",
   "metadata": {},
   "outputs": [
    {
     "name": "stdout",
     "output_type": "stream",
     "text": [
      "Epoch 1/10\n",
      "64/64 [==============================] - 10s 68ms/step - loss: 0.6826 - accuracy: 0.5696 - val_loss: 0.6769 - val_accuracy: 0.5586\n",
      "Epoch 2/10\n",
      "64/64 [==============================] - 4s 58ms/step - loss: 0.6033 - accuracy: 0.6750 - val_loss: 0.5449 - val_accuracy: 0.7424\n",
      "Epoch 3/10\n",
      "64/64 [==============================] - 4s 58ms/step - loss: 0.5170 - accuracy: 0.7575 - val_loss: 0.5028 - val_accuracy: 0.7655\n",
      "Epoch 4/10\n",
      "64/64 [==============================] - 4s 59ms/step - loss: 0.4818 - accuracy: 0.7846 - val_loss: 0.4929 - val_accuracy: 0.7688\n",
      "Epoch 5/10\n",
      "64/64 [==============================] - 4s 57ms/step - loss: 0.4443 - accuracy: 0.8079 - val_loss: 0.4934 - val_accuracy: 0.7701\n",
      "Epoch 6/10\n",
      "64/64 [==============================] - 4s 58ms/step - loss: 0.4154 - accuracy: 0.8221 - val_loss: 0.4767 - val_accuracy: 0.7892\n",
      "Epoch 7/10\n",
      "64/64 [==============================] - 4s 57ms/step - loss: 0.3965 - accuracy: 0.8361 - val_loss: 0.4726 - val_accuracy: 0.8050\n",
      "Epoch 8/10\n",
      "64/64 [==============================] - 4s 60ms/step - loss: 0.3752 - accuracy: 0.8453 - val_loss: 0.4792 - val_accuracy: 0.7978\n",
      "Epoch 9/10\n",
      "64/64 [==============================] - 4s 58ms/step - loss: 0.3613 - accuracy: 0.8537 - val_loss: 0.4793 - val_accuracy: 0.8076\n",
      "Epoch 10/10\n",
      "64/64 [==============================] - 4s 58ms/step - loss: 0.3443 - accuracy: 0.8645 - val_loss: 0.4902 - val_accuracy: 0.8004\n"
     ]
    }
   ],
   "source": [
    "history = model.fit(x=tr_val, y=y_tr_val, validation_data=(te_val, y_te_val), epochs=10, batch_size=96, shuffle=True, verbose=1)"
   ]
  },
  {
   "cell_type": "code",
   "execution_count": 62,
   "id": "4db80750-ce26-423c-8ec1-a5375bf3c5d9",
   "metadata": {},
   "outputs": [
    {
     "data": {
      "image/png": "[encoded data removed]",
      "text/plain": [
       "<Figure size 720x360 with 2 Axes>"
      ]
     },
     "metadata": {
      "needs_background": "light"
     },
     "output_type": "display_data"
    }
   ],
   "source": [
    "plot_history(history)\n",
    "plt.show()"
   ]
  },
  {
   "cell_type": "code",
   "execution_count": 63,
   "id": "1738dc14-0122-4b19-9824-5ddb5c7d8310",
   "metadata": {},
   "outputs": [
    {
     "name": "stdout",
     "output_type": "stream",
     "text": [
      "gresham changed in abbswinston\n",
      "gresham changed in abbswinston\n",
      "smith changed in rs\n",
      "39 words changed\n"
     ]
    }
   ],
   "source": [
    "te = wordChanger(tr, te)"
   ]
  },
  {
   "cell_type": "code",
   "execution_count": 64,
   "id": "ebd0b95f-bd7e-4eb3-84f9-3b7bdd7c848a",
   "metadata": {},
   "outputs": [],
   "source": [
    "tokenizer = Tokenizer(num_words=None)\n",
    "tokenizer.fit_on_texts(tr)\n",
    "tr = tokenizer.texts_to_sequences(tr)\n",
    "te = tokenizer.texts_to_sequences(te)\n",
    "\n",
    "vocabulary_size = len(tokenizer.index_word)+1"
   ]
  },
  {
   "cell_type": "code",
   "execution_count": 65,
   "id": "c6ba003d-ab9c-4a23-b18a-58a8f630f31f",
   "metadata": {},
   "outputs": [],
   "source": [
    "length=max([max([len(i) for i in tr]), max([len(i) for i in te])])"
   ]
  },
  {
   "cell_type": "code",
   "execution_count": 66,
   "id": "8cc6d806-03a2-4408-96ec-554acc57381d",
   "metadata": {},
   "outputs": [],
   "source": [
    "tr = pad_sequences(tr, padding='post', maxlen=length)\n",
    "te = pad_sequences(te, padding='post', maxlen=length)"
   ]
  },
  {
   "cell_type": "code",
   "execution_count": 67,
   "id": "94356545-3bfa-4f85-b613-7a24a914e972",
   "metadata": {},
   "outputs": [
    {
     "name": "stdout",
     "output_type": "stream",
     "text": [
      "Model: \"model_3\"\n",
      "_________________________________________________________________\n",
      " Layer (type)                Output Shape              Param #   \n",
      "=================================================================\n",
      " input (InputLayer)          [(None, 32)]              0         \n",
      "                                                                 \n",
      " embedding_3 (Embedding)     (None, 32, 4)             55600     \n",
      "                                                                 \n",
      " dropout_3 (Dropout)         (None, 32, 4)             0         \n",
      "                                                                 \n",
      " bidirectional_6 (Bidirectio  (None, 32, 32)           2688      \n",
      " nal)                                                            \n",
      "                                                                 \n",
      " bidirectional_7 (Bidirectio  (None, 16)               2624      \n",
      " nal)                                                            \n",
      "                                                                 \n",
      " dense_3 (Dense)             (None, 1)                 17        \n",
      "                                                                 \n",
      "=================================================================\n",
      "Total params: 60,929\n",
      "Trainable params: 60,929\n",
      "Non-trainable params: 0\n",
      "_________________________________________________________________\n"
     ]
    }
   ],
   "source": [
    "model = BiDirLSTM(vocabulary_size, length)"
   ]
  },
  {
   "cell_type": "code",
   "execution_count": 68,
   "id": "d62c89ce-6996-4704-a9f5-61cc8d785583",
   "metadata": {},
   "outputs": [],
   "source": [
    "model.compile(optimizer=optimizer, loss=loss, metrics=[\"accuracy\"])"
   ]
  },
  {
   "cell_type": "code",
   "execution_count": 69,
   "id": "e7c57c03-8e33-48a9-a668-2fa1c28728ef",
   "metadata": {},
   "outputs": [],
   "source": [
    "history = model.fit(x=tr, y=y, epochs=10, batch_size=96, shuffle=True, verbose=0)"
   ]
  },
  {
   "cell_type": "code",
   "execution_count": 70,
   "id": "06a11dde-17a6-4354-9736-424b620ba38d",
   "metadata": {},
   "outputs": [],
   "source": [
    "Predictions = model.predict(x=te)"
   ]
  },
  {
   "cell_type": "code",
   "execution_count": 71,
   "id": "f18d203b-bf04-4c29-8ab1-aa6ffefe6f4a",
   "metadata": {},
   "outputs": [],
   "source": [
    "def comHist(base, pred, lab :str):\n",
    "    plt.figure(figsize=(10,5), dpi=80)\n",
    "    plt.hist(base, bins=32, alpha=1, color='g', label='baseline')\n",
    "    plt.hist(pred, bins=32, alpha=0.5, color='r', label=lab, linestyle='dashed', edgecolor = 'w')\n",
    "    plt.legend(loc='upper right')\n",
    "    plt.title('Probabilities Distribution')\n",
    "    plt.show()"
   ]
  },
  {
   "cell_type": "code",
   "execution_count": 72,
   "id": "b3f02c5d-4fdb-4d94-80f2-f5488de48903",
   "metadata": {},
   "outputs": [
    {
     "data": {
      "image/png": "[encoded data removed]",
      "text/plain": [
       "<Figure size 800x400 with 1 Axes>"
      ]
     },
     "metadata": {
      "needs_background": "light"
     },
     "output_type": "display_data"
    }
   ],
   "source": [
    "comHist(baseline, Predictions, \"Word2Vec Synonyms\")"
   ]
  },
  {
   "cell_type": "code",
   "execution_count": 73,
   "id": "f1e69ab0-9dd2-4546-a34b-6030a84b2f28",
   "metadata": {},
   "outputs": [
    {
     "data": {
      "text/html": [
       "<div>\n",
       "<style scoped>\n",
       "    .dataframe tbody tr th:only-of-type {\n",
       "        vertical-align: middle;\n",
       "    }\n",
       "\n",
       "    .dataframe tbody tr th {\n",
       "        vertical-align: top;\n",
       "    }\n",
       "\n",
       "    .dataframe thead th {\n",
       "        text-align: right;\n",
       "    }\n",
       "</style>\n",
       "<table border=\"1\" class=\"dataframe\">\n",
       "  <thead>\n",
       "    <tr style=\"text-align: right;\">\n",
       "      <th></th>\n",
       "      <th>id</th>\n",
       "      <th>target</th>\n",
       "    </tr>\n",
       "  </thead>\n",
       "  <tbody>\n",
       "    <tr>\n",
       "      <th>0</th>\n",
       "      <td>0</td>\n",
       "      <td>1</td>\n",
       "    </tr>\n",
       "    <tr>\n",
       "      <th>1</th>\n",
       "      <td>2</td>\n",
       "      <td>0</td>\n",
       "    </tr>\n",
       "    <tr>\n",
       "      <th>2</th>\n",
       "      <td>3</td>\n",
       "      <td>1</td>\n",
       "    </tr>\n",
       "    <tr>\n",
       "      <th>3</th>\n",
       "      <td>9</td>\n",
       "      <td>0</td>\n",
       "    </tr>\n",
       "    <tr>\n",
       "      <th>4</th>\n",
       "      <td>11</td>\n",
       "      <td>1</td>\n",
       "    </tr>\n",
       "    <tr>\n",
       "      <th>5</th>\n",
       "      <td>12</td>\n",
       "      <td>1</td>\n",
       "    </tr>\n",
       "    <tr>\n",
       "      <th>6</th>\n",
       "      <td>21</td>\n",
       "      <td>0</td>\n",
       "    </tr>\n",
       "  </tbody>\n",
       "</table>\n",
       "</div>"
      ],
      "text/plain": [
       "   id  target\n",
       "0   0       1\n",
       "1   2       0\n",
       "2   3       1\n",
       "3   9       0\n",
       "4  11       1\n",
       "5  12       1\n",
       "6  21       0"
      ]
     },
     "execution_count": 73,
     "metadata": {},
     "output_type": "execute_result"
    }
   ],
   "source": [
    "subm[\"target\"] = [1 if i > 0.5 else 0 for i in Predictions]\n",
    "subm.head(7)"
   ]
  },
  {
   "cell_type": "code",
   "execution_count": 74,
   "id": "9caa4c51-5385-4e69-81c1-d8f4907ad995",
   "metadata": {},
   "outputs": [],
   "source": [
    "subm.to_csv(\"Submission_W2V.csv\", index=False)"
   ]
  },
  {
   "cell_type": "code",
   "execution_count": 75,
   "id": "f60b2003-f260-41a5-9248-b8fea8581954",
   "metadata": {},
   "outputs": [],
   "source": [
    "# Glove Embeddings with gensim\n",
    "tr, F, T = cleaner(train, stopWrds=False, Lemmatize=False, dropDigits=True, dropSinLet=False)\n",
    "te, o, o = cleaner(test, stopWrds=False, Lemmatize=False, dropDigits=True, dropSinLet=False, labeled=False)\n",
    "\n",
    "np.random.seed(seed)\n",
    "r = np.random.uniform(low = 0.0, high = 1.0, size = train.shape[0])\n",
    "y_tr_val = y[r > 0.2]\n",
    "y_te_val = y[r <= 0.2]\n",
    "tr_val, o, o = cleaner(train.loc[r > 0.2], stopWrds=False, Lemmatize=False, dropDigits=True, dropSinLet=False)\n",
    "te_val, o, o = cleaner(train.loc[r <= 0.2], stopWrds=False, Lemmatize=False, dropDigits=True, dropSinLet=False, labeled=False)"
   ]
  },
  {
   "cell_type": "code",
   "execution_count": 76,
   "id": "82334a58-ab19-4deb-8d06-6de9e3bd4030",
   "metadata": {},
   "outputs": [
    {
     "name": "stdout",
     "output_type": "stream",
     "text": [
      "[==================================================] 100.0% 104.8/104.8MB downloaded\n",
      "fire is run\n",
      "flood is closure\n",
      "died is killed\n",
      "accident is crash\n",
      "closed is flight\n",
      "help is save\n",
      "twitter is facebook\n",
      "air is jet\n",
      "everything is something\n"
     ]
    }
   ],
   "source": [
    "glove = api.load(\"glove-twitter-25\")\n",
    "\n",
    "for w in words:\n",
    "    print(w + \" is \" + glove.most_similar(w, topn=1)[0][0])"
   ]
  },
  {
   "cell_type": "code",
   "execution_count": 77,
   "id": "1878309d-6472-4572-8068-5be7cc1b5cf2",
   "metadata": {},
   "outputs": [
    {
     "name": "stdout",
     "output_type": "stream",
     "text": [
      "fire is buildings\n",
      "flood is offroad\n",
      "died is deaths\n",
      "accident is airplane\n",
      "closed is wings\n",
      "help is see\n",
      "twitter is dude\n",
      "air is french\n",
      "everything is haha\n"
     ]
    }
   ],
   "source": [
    "vecSize = 25\n",
    "w2v = gensim.models.Word2Vec(emb, vector_size = vecSize, min_count = 1, workers = 4, window = 6, sg = 1)\n",
    "\n",
    "for w in words:\n",
    "    print(w + \" is \" + w2v.wv.most_similar(w, topn=1)[0][0])"
   ]
  },
  {
   "cell_type": "code",
   "execution_count": 78,
   "id": "fe355b34-8a9d-4cf1-89ca-1446606c0a4e",
   "metadata": {},
   "outputs": [],
   "source": [
    "def gloveEmbedder(df_tr, df_te):\n",
    "    etr = []\n",
    "    ete = []\n",
    "\n",
    "    for s in df_tr:\n",
    "        s = [glove[f\"{w}\"] if w in glove.index_to_key else w2v.wv[f\"{w}\"] for w in s.split()]\n",
    "        s = list(np.ravel(s))\n",
    "        etr.append(s)\n",
    "\n",
    "    for s in df_te:\n",
    "        s = [glove[f\"{w}\"] if w in glove.index_to_key else w2v.wv[f\"{w}\"] for w in s.split()]\n",
    "        s = list(np.ravel(s))\n",
    "        ete.append(s)\n",
    "\n",
    "    l=max([max([len(i) for i in etr]), max([len(i) for i in ete])])\n",
    "\n",
    "    print(\"Each sentence will have a lengt of \" + str(l))\n",
    "    return etr, ete, l"
   ]
  },
  {
   "cell_type": "code",
   "execution_count": 79,
   "id": "6c0d302e-1c06-4c3d-9b35-062704fde0d7",
   "metadata": {},
   "outputs": [
    {
     "name": "stdout",
     "output_type": "stream",
     "text": [
      "Each sentence will have a lengt of 775\n"
     ]
    }
   ],
   "source": [
    "emb_tr_val, emb_te_val, length_val = gloveEmbedder(tr_val, te_val)"
   ]
  },
  {
   "cell_type": "code",
   "execution_count": 80,
   "id": "01c93be7-adad-484c-b73b-63577308726e",
   "metadata": {},
   "outputs": [],
   "source": [
    "emb_tr_val = pad_sequences(emb_tr_val, padding='post', maxlen=length_val, dtype='float32')\n",
    "emb_te_val = pad_sequences(emb_te_val, padding='post', maxlen=length_val, dtype='float32')"
   ]
  },
  {
   "cell_type": "code",
   "execution_count": 81,
   "id": "e143ea13-09a3-4b5d-9c64-04af1085bdcb",
   "metadata": {},
   "outputs": [],
   "source": [
    "timesteps=int(length_val/vecSize)\n",
    "emb_tr_val = emb_tr_val.reshape(-1, timesteps, vecSize)\n",
    "emb_te_val = emb_te_val.reshape(-1, timesteps, vecSize)\n",
    "shape = emb_tr_val.shape[1:]"
   ]
  },
  {
   "cell_type": "code",
   "execution_count": 82,
   "id": "bfef2068-5bbe-44c6-bfb7-836e8b44448c",
   "metadata": {},
   "outputs": [],
   "source": [
    "def BiDirLSTM(inpShape, seeds = seed):\n",
    "    np.random.seed(seeds)\n",
    "    set_seed(seeds)\n",
    "    \n",
    "    inp = Input(shape = (inpShape), name = \"input\")\n",
    "    drop = Dropout(0.4)(inp)\n",
    "    biLstm = Bidirectional(\n",
    "        LSTM(\n",
    "            units =192,\n",
    "            activation ='tanh',\n",
    "            return_sequences = True,\n",
    "            stateful = False,\n",
    "            recurrent_dropout = 0.4,\n",
    "            dropout = 0.4\n",
    "        )\n",
    "    )(drop)\n",
    "    biLstm = Bidirectional(\n",
    "        LSTM(\n",
    "            units = 8,\n",
    "            activation = 'tanh',\n",
    "            return_sequences = False,\n",
    "            stateful = False,\n",
    "            recurrent_dropout = 0.4,\n",
    "            dropout = 0.3\n",
    "        )\n",
    "    )(biLstm)\n",
    "\n",
    "    out = Dense(units = 1, activation = \"sigmoid\")(biLstm)\n",
    "\n",
    "    m = Model(inputs = inp, outputs = out)\n",
    "    m.summary()\n",
    "    return m"
   ]
  },
  {
   "cell_type": "code",
   "execution_count": 83,
   "id": "adc4f942-e4bd-4061-9259-efd04ff85863",
   "metadata": {},
   "outputs": [
    {
     "name": "stdout",
     "output_type": "stream",
     "text": [
      "Model: \"model_4\"\n",
      "_________________________________________________________________\n",
      " Layer (type)                Output Shape              Param #   \n",
      "=================================================================\n",
      " input (InputLayer)          [(None, 31, 25)]          0         \n",
      "                                                                 \n",
      " dropout_4 (Dropout)         (None, 31, 25)            0         \n",
      "                                                                 \n",
      " bidirectional_8 (Bidirectio  (None, 31, 384)          334848    \n",
      " nal)                                                            \n",
      "                                                                 \n",
      " bidirectional_9 (Bidirectio  (None, 16)               25152     \n",
      " nal)                                                            \n",
      "                                                                 \n",
      " dense_4 (Dense)             (None, 1)                 17        \n",
      "                                                                 \n",
      "=================================================================\n",
      "Total params: 360,017\n",
      "Trainable params: 360,017\n",
      "Non-trainable params: 0\n",
      "_________________________________________________________________\n"
     ]
    }
   ],
   "source": [
    "model = BiDirLSTM(inpShape = shape)"
   ]
  },
  {
   "cell_type": "code",
   "execution_count": 85,
   "id": "a3cb596f-afcd-4d49-8526-e355c7eede8f",
   "metadata": {},
   "outputs": [],
   "source": [
    "optimizer = Adamax(\n",
    "    learning_rate = 0.015, \n",
    "    decay = 0.0002, \n",
    "    clipvalue = 10\n",
    ")"
   ]
  },
  {
   "cell_type": "code",
   "execution_count": 86,
   "id": "adde7b8d-ccd8-498c-818f-dd2edda5bf05",
   "metadata": {},
   "outputs": [],
   "source": [
    "model.compile(\n",
    "    optimizer = optimizer, \n",
    "    loss = loss, \n",
    "    metrics = [\"accuracy\"]\n",
    ")"
   ]
  },
  {
   "cell_type": "code",
   "execution_count": 87,
   "id": "8c8f7211-81c1-4c30-9c81-8c4d0591765a",
   "metadata": {},
   "outputs": [
    {
     "name": "stdout",
     "output_type": "stream",
     "text": [
      "Epoch 1/15\n",
      "64/64 [==============================] - 18s 194ms/step - loss: 0.5574 - accuracy: 0.7217 - val_loss: 0.5092 - val_accuracy: 0.7681\n",
      "Epoch 2/15\n",
      "64/64 [==============================] - 12s 191ms/step - loss: 0.5201 - accuracy: 0.7573 - val_loss: 0.4973 - val_accuracy: 0.7773\n",
      "Epoch 3/15\n",
      "64/64 [==============================] - 13s 197ms/step - loss: 0.5096 - accuracy: 0.7603 - val_loss: 0.4875 - val_accuracy: 0.7839\n",
      "Epoch 4/15\n",
      "64/64 [==============================] - 13s 197ms/step - loss: 0.5124 - accuracy: 0.7550 - val_loss: 0.4823 - val_accuracy: 0.7655\n",
      "Epoch 5/15\n",
      "64/64 [==============================] - 13s 202ms/step - loss: 0.5075 - accuracy: 0.7578 - val_loss: 0.4784 - val_accuracy: 0.7813\n",
      "Epoch 6/15\n",
      "64/64 [==============================] - 13s 201ms/step - loss: 0.4934 - accuracy: 0.7728 - val_loss: 0.4799 - val_accuracy: 0.7866\n",
      "Epoch 7/15\n",
      "64/64 [==============================] - 13s 198ms/step - loss: 0.4975 - accuracy: 0.7674 - val_loss: 0.4755 - val_accuracy: 0.7951\n",
      "Epoch 8/15\n",
      "64/64 [==============================] - 13s 204ms/step - loss: 0.4861 - accuracy: 0.7710 - val_loss: 0.4762 - val_accuracy: 0.7964\n",
      "Epoch 9/15\n",
      "64/64 [==============================] - 13s 203ms/step - loss: 0.4804 - accuracy: 0.7780 - val_loss: 0.4677 - val_accuracy: 0.7912\n",
      "Epoch 10/15\n",
      "64/64 [==============================] - 13s 196ms/step - loss: 0.4822 - accuracy: 0.7815 - val_loss: 0.4676 - val_accuracy: 0.7971\n",
      "Epoch 11/15\n",
      "64/64 [==============================] - 13s 202ms/step - loss: 0.4772 - accuracy: 0.7861 - val_loss: 0.4752 - val_accuracy: 0.7806\n",
      "Epoch 12/15\n",
      "64/64 [==============================] - 13s 202ms/step - loss: 0.4807 - accuracy: 0.7764 - val_loss: 0.4663 - val_accuracy: 0.7839\n",
      "Epoch 13/15\n",
      "64/64 [==============================] - 13s 207ms/step - loss: 0.4731 - accuracy: 0.7821 - val_loss: 0.4657 - val_accuracy: 0.7925\n",
      "Epoch 14/15\n",
      "64/64 [==============================] - 13s 203ms/step - loss: 0.4707 - accuracy: 0.7851 - val_loss: 0.4604 - val_accuracy: 0.7997\n",
      "Epoch 15/15\n",
      "64/64 [==============================] - 13s 207ms/step - loss: 0.4686 - accuracy: 0.7864 - val_loss: 0.4617 - val_accuracy: 0.7899\n"
     ]
    }
   ],
   "source": [
    "history = model.fit(\n",
    "    x = emb_tr_val, \n",
    "    y = y_tr_val,\n",
    "    validation_data = (emb_te_val, y_te_val),\n",
    "    epochs = 15, \n",
    "    batch_size = 96, \n",
    "    shuffle = True,\n",
    "    verbose = 1\n",
    ")"
   ]
  },
  {
   "cell_type": "code",
   "execution_count": 88,
   "id": "4c9cfb2c-f496-40ff-80f0-968aaed35c53",
   "metadata": {},
   "outputs": [
    {
     "data": {
      "image/png": "[encoded data removed]",
      "text/plain": [
       "<Figure size 720x360 with 2 Axes>"
      ]
     },
     "metadata": {
      "needs_background": "light"
     },
     "output_type": "display_data"
    }
   ],
   "source": [
    "plot_history(history)\n",
    "plt.show()"
   ]
  },
  {
   "cell_type": "code",
   "execution_count": 89,
   "id": "7d290ba2-63a2-4d0d-9830-b8d15a888dcd",
   "metadata": {},
   "outputs": [
    {
     "name": "stdout",
     "output_type": "stream",
     "text": [
      "Each sentence will have a lengt of 825\n"
     ]
    }
   ],
   "source": [
    "emb_tr, emb_te, length = gloveEmbedder(tr, te)"
   ]
  },
  {
   "cell_type": "code",
   "execution_count": 90,
   "id": "bbaa064c-617c-452e-9c38-7589096a077a",
   "metadata": {},
   "outputs": [],
   "source": [
    "emb_tr = pad_sequences(emb_tr, padding='post', maxlen=length, dtype='float32')\n",
    "emb_te = pad_sequences(emb_te, padding='post', maxlen=length, dtype='float32')"
   ]
  },
  {
   "cell_type": "code",
   "execution_count": 91,
   "id": "6b5763f3-8f22-4514-9b90-8cb2941b6c50",
   "metadata": {},
   "outputs": [],
   "source": [
    "timesteps = int(length/vecSize)\n",
    "emb_tr = emb_tr.reshape(-1, timesteps, vecSize)\n",
    "emb_te = emb_te.reshape(-1, timesteps, vecSize)\n",
    "shape = emb_tr.shape[1:]"
   ]
  },
  {
   "cell_type": "code",
   "execution_count": 92,
   "id": "be9e84b5-e668-46ce-843c-1661024f0c0c",
   "metadata": {},
   "outputs": [
    {
     "name": "stdout",
     "output_type": "stream",
     "text": [
      "Model: \"model_5\"\n",
      "_________________________________________________________________\n",
      " Layer (type)                Output Shape              Param #   \n",
      "=================================================================\n",
      " input (InputLayer)          [(None, 33, 25)]          0         \n",
      "                                                                 \n",
      " dropout_5 (Dropout)         (None, 33, 25)            0         \n",
      "                                                                 \n",
      " bidirectional_10 (Bidirecti  (None, 33, 384)          334848    \n",
      " onal)                                                           \n",
      "                                                                 \n",
      " bidirectional_11 (Bidirecti  (None, 16)               25152     \n",
      " onal)                                                           \n",
      "                                                                 \n",
      " dense_5 (Dense)             (None, 1)                 17        \n",
      "                                                                 \n",
      "=================================================================\n",
      "Total params: 360,017\n",
      "Trainable params: 360,017\n",
      "Non-trainable params: 0\n",
      "_________________________________________________________________\n"
     ]
    }
   ],
   "source": [
    "model = BiDirLSTM(inpShape=shape)"
   ]
  },
  {
   "cell_type": "code",
   "execution_count": 93,
   "id": "e1ae55e5-8bfc-4e41-837c-c49119ee791a",
   "metadata": {},
   "outputs": [],
   "source": [
    "model.compile(\n",
    "    optimizer = optimizer, \n",
    "    loss = loss, \n",
    "    metrics=[\"accuracy\"]\n",
    ")"
   ]
  },
  {
   "cell_type": "code",
   "execution_count": 94,
   "id": "cedeae8a-66d3-44e5-8459-ee670b220b90",
   "metadata": {},
   "outputs": [],
   "source": [
    "history = model.fit(\n",
    "    x = emb_tr, \n",
    "    y = y,\n",
    "    epochs = 15, \n",
    "    batch_size = 96, \n",
    "    shuffle = True,\n",
    "    verbose = 0\n",
    ")"
   ]
  },
  {
   "cell_type": "code",
   "execution_count": 95,
   "id": "07793135-9482-4d05-9c51-ac1668ba6788",
   "metadata": {},
   "outputs": [],
   "source": [
    "Predictions = model.predict(\n",
    "    x = emb_te\n",
    ")"
   ]
  },
  {
   "cell_type": "code",
   "execution_count": 96,
   "id": "947472c3-1146-4dd8-915f-ecfecd32ac6b",
   "metadata": {},
   "outputs": [
    {
     "data": {
      "image/png": "[encoded data removed]",
      "text/plain": [
       "<Figure size 800x400 with 1 Axes>"
      ]
     },
     "metadata": {
      "needs_background": "light"
     },
     "output_type": "display_data"
    }
   ],
   "source": [
    "comHist(baseline, Predictions, \"Glove\")"
   ]
  },
  {
   "cell_type": "code",
   "execution_count": 97,
   "id": "f9d75e8a-dff4-4383-b8ea-c1cfb302ed0b",
   "metadata": {},
   "outputs": [
    {
     "data": {
      "text/html": [
       "<div>\n",
       "<style scoped>\n",
       "    .dataframe tbody tr th:only-of-type {\n",
       "        vertical-align: middle;\n",
       "    }\n",
       "\n",
       "    .dataframe tbody tr th {\n",
       "        vertical-align: top;\n",
       "    }\n",
       "\n",
       "    .dataframe thead th {\n",
       "        text-align: right;\n",
       "    }\n",
       "</style>\n",
       "<table border=\"1\" class=\"dataframe\">\n",
       "  <thead>\n",
       "    <tr style=\"text-align: right;\">\n",
       "      <th></th>\n",
       "      <th>id</th>\n",
       "      <th>target</th>\n",
       "    </tr>\n",
       "  </thead>\n",
       "  <tbody>\n",
       "    <tr>\n",
       "      <th>0</th>\n",
       "      <td>0</td>\n",
       "      <td>1</td>\n",
       "    </tr>\n",
       "    <tr>\n",
       "      <th>1</th>\n",
       "      <td>2</td>\n",
       "      <td>1</td>\n",
       "    </tr>\n",
       "    <tr>\n",
       "      <th>2</th>\n",
       "      <td>3</td>\n",
       "      <td>1</td>\n",
       "    </tr>\n",
       "    <tr>\n",
       "      <th>3</th>\n",
       "      <td>9</td>\n",
       "      <td>1</td>\n",
       "    </tr>\n",
       "    <tr>\n",
       "      <th>4</th>\n",
       "      <td>11</td>\n",
       "      <td>1</td>\n",
       "    </tr>\n",
       "    <tr>\n",
       "      <th>5</th>\n",
       "      <td>12</td>\n",
       "      <td>0</td>\n",
       "    </tr>\n",
       "    <tr>\n",
       "      <th>6</th>\n",
       "      <td>21</td>\n",
       "      <td>0</td>\n",
       "    </tr>\n",
       "  </tbody>\n",
       "</table>\n",
       "</div>"
      ],
      "text/plain": [
       "   id  target\n",
       "0   0       1\n",
       "1   2       1\n",
       "2   3       1\n",
       "3   9       1\n",
       "4  11       1\n",
       "5  12       0\n",
       "6  21       0"
      ]
     },
     "execution_count": 97,
     "metadata": {},
     "output_type": "execute_result"
    }
   ],
   "source": [
    "subm[\"target\"] = [1 if i > 0.5 else 0 for i in Predictions]\n",
    "subm.head(7)"
   ]
  },
  {
   "cell_type": "code",
   "execution_count": 98,
   "id": "3f2dbb26-0102-4e24-a15b-ea040d4d3929",
   "metadata": {},
   "outputs": [],
   "source": [
    "subm.to_csv(\"Submission_W2V_Embed.csv\", index = False)"
   ]
  },
  {
   "cell_type": "code",
   "execution_count": 99,
   "id": "9d7aee64-bd05-44f9-ab5d-bc5a5659e008",
   "metadata": {},
   "outputs": [],
   "source": [
    "# BERT\n",
    "tr, F, T = cleaner(train, stopWrds=False, Lemmatize=False, dropDigits=True, dropSinLet=False)\n",
    "te, _, _ = cleaner(test, stopWrds=False, Lemmatize=False, dropDigits=True, dropSinLet=False, labeled=False)\n",
    "\n",
    "np.random.seed(seed)\n",
    "r = np.random.uniform(low=0.0, high=1.0, size=train.shape[0])\n",
    "y_tr_val = y[r > 0.2]\n",
    "y_te_val = y[r <= 0.2]\n",
    "tr_val, _, _ = cleaner(train.loc[r > 0.2], stopWrds=False, Lemmatize=False, dropDigits=True, dropSinLet=False)\n",
    "te_val, _, _ = cleaner(train.loc[r <= 0.2], stopWrds=False, Lemmatize=False, dropDigits=True, dropSinLet=False, labeled=False)"
   ]
  },
  {
   "cell_type": "code",
   "execution_count": 100,
   "id": "6e000ba1-924b-4f7b-b2d3-a3596dcc9fbb",
   "metadata": {},
   "outputs": [
    {
     "data": {
      "application/vnd.jupyter.widget-view+json": {
       "model_id": "26b56a9dcdd54193a45dfefcc1a7d0b8",
       "version_major": 2,
       "version_minor": 0
      },
      "text/plain": [
       "Downloading:   0%|          | 0.00/28.0 [00:00<?, ?B/s]"
      ]
     },
     "metadata": {},
     "output_type": "display_data"
    },
    {
     "data": {
      "application/vnd.jupyter.widget-view+json": {
       "model_id": "06f9d9502f3646f5aa6d06ecba21ac36",
       "version_major": 2,
       "version_minor": 0
      },
      "text/plain": [
       "Downloading:   0%|          | 0.00/226k [00:00<?, ?B/s]"
      ]
     },
     "metadata": {},
     "output_type": "display_data"
    },
    {
     "data": {
      "application/vnd.jupyter.widget-view+json": {
       "model_id": "7f00d4bf5d234e15a422a906d3ef4daa",
       "version_major": 2,
       "version_minor": 0
      },
      "text/plain": [
       "Downloading:   0%|          | 0.00/455k [00:00<?, ?B/s]"
      ]
     },
     "metadata": {},
     "output_type": "display_data"
    },
    {
     "data": {
      "application/vnd.jupyter.widget-view+json": {
       "model_id": "8a6f84131e4c42fa9a68a183bfdeebad",
       "version_major": 2,
       "version_minor": 0
      },
      "text/plain": [
       "Downloading:   0%|          | 0.00/570 [00:00<?, ?B/s]"
      ]
     },
     "metadata": {},
     "output_type": "display_data"
    }
   ],
   "source": [
    "bert_tokenizer = BertTokenizer.from_pretrained(\"bert-base-uncased\")"
   ]
  },
  {
   "cell_type": "code",
   "execution_count": 101,
   "id": "f5d97a54-ff69-4342-90c5-4329c987c14b",
   "metadata": {},
   "outputs": [],
   "source": [
    "length_val = max([max([len(i) for i in tr_val]), max([len(i) for i in te_val])])"
   ]
  },
  {
   "cell_type": "code",
   "execution_count": 102,
   "id": "aeeb69f0-81df-4057-a092-4f2261e24ff2",
   "metadata": {},
   "outputs": [],
   "source": [
    "def prepareBERT(l, X, Y=None):\n",
    "    inp_ids = []\n",
    "    am = []\n",
    "\n",
    "    for s in X:\n",
    "        bert_inp = bert_tokenizer.encode_plus(\n",
    "            s,\n",
    "            add_special_tokens = True,\n",
    "            max_length = l,\n",
    "            padding ='max_length',\n",
    "            return_attention_mask = True,\n",
    "            truncation = True\n",
    "        )\n",
    "        inp_ids.append(bert_inp['input_ids'])\n",
    "        am.append(bert_inp['attention_mask'])\n",
    "\n",
    "    inp_ids = np.asarray(inp_ids)\n",
    "    am = np.array(am)\n",
    "    print(len(inp_ids));print(len(am))\n",
    "    if Y is not None:\n",
    "        print(len(Y))\n",
    "    return inp_ids, am"
   ]
  },
  {
   "cell_type": "code",
   "execution_count": 103,
   "id": "a334540f-d3dd-43a2-9739-cb45893179c2",
   "metadata": {},
   "outputs": [
    {
     "name": "stdout",
     "output_type": "stream",
     "text": [
      "1518\n",
      "1518\n",
      "1518\n",
      "6095\n",
      "6095\n",
      "6095\n"
     ]
    }
   ],
   "source": [
    "input_ids_te_val, attention_mask_te_val = prepareBERT(length_val, te_val, y_te_val)\n",
    "input_ids_tr_val, attention_mask_tr_val = prepareBERT(length_val, tr_val, y_tr_val)"
   ]
  },
  {
   "cell_type": "code",
   "execution_count": 104,
   "id": "ac6a92ec-970d-41ee-ad75-67fbd796bcf3",
   "metadata": {},
   "outputs": [
    {
     "data": {
      "application/vnd.jupyter.widget-view+json": {
       "model_id": "9d14a024d28a4a478a0741c2d7035fb0",
       "version_major": 2,
       "version_minor": 0
      },
      "text/plain": [
       "Downloading:   0%|          | 0.00/511M [00:00<?, ?B/s]"
      ]
     },
     "metadata": {},
     "output_type": "display_data"
    },
    {
     "name": "stderr",
     "output_type": "stream",
     "text": [
      "All model checkpoint layers were used when initializing TFBertForSequenceClassification.\n",
      "\n",
      "Some layers of TFBertForSequenceClassification were not initialized from the model checkpoint at bert-base-uncased and are newly initialized: ['classifier']\n",
      "You should probably TRAIN this model on a down-stream task to be able to use it for predictions and inference.\n"
     ]
    }
   ],
   "source": [
    "bert_model = TFBertForSequenceClassification.from_pretrained(\n",
    "    'bert-base-uncased', \n",
    "    hidden_dropout_prob = 0.15,\n",
    "    attention_probs_dropout_prob = 0.15,\n",
    "    hidden_act = \"relu\",\n",
    "    num_labels = 2\n",
    ")"
   ]
  },
  {
   "cell_type": "code",
   "execution_count": 105,
   "id": "50478225-8741-4268-b074-81147c64b16d",
   "metadata": {},
   "outputs": [
    {
     "name": "stderr",
     "output_type": "stream",
     "text": [
      "/Users/alex/opt/anaconda3/lib/python3.9/site-packages/keras/optimizer_v2/adam.py:105: UserWarning: The `lr` argument is deprecated, use `learning_rate` instead.\n",
      "  super(Adam, self).__init__(name, **kwargs)\n"
     ]
    }
   ],
   "source": [
    "optimizer = Adam(\n",
    "    lr = 5e-5, \n",
    "    epsilon = 1e-08,\n",
    "    clipvalue = 10\n",
    ")"
   ]
  },
  {
   "cell_type": "code",
   "execution_count": 106,
   "id": "fe76efc3-cac3-4968-91a9-7db8da506806",
   "metadata": {},
   "outputs": [],
   "source": [
    "loss = SparseCategoricalCrossentropy(from_logits=True)"
   ]
  },
  {
   "cell_type": "code",
   "execution_count": 107,
   "id": "b3713ec1-e0fe-4711-bdb1-b40586a8941f",
   "metadata": {},
   "outputs": [
    {
     "name": "stdout",
     "output_type": "stream",
     "text": [
      "Model: \"tf_bert_for_sequence_classification\"\n",
      "_________________________________________________________________\n",
      " Layer (type)                Output Shape              Param #   \n",
      "=================================================================\n",
      " bert (TFBertMainLayer)      multiple                  109482240 \n",
      "                                                                 \n",
      " dropout_43 (Dropout)        multiple                  0         \n",
      "                                                                 \n",
      " classifier (Dense)          multiple                  1538      \n",
      "                                                                 \n",
      "=================================================================\n",
      "Total params: 109,483,778\n",
      "Trainable params: 109,483,778\n",
      "Non-trainable params: 0\n",
      "_________________________________________________________________\n"
     ]
    }
   ],
   "source": [
    "bert_model.compile(\n",
    "    loss = loss,\n",
    "    optimizer = optimizer,\n",
    "    metrics = SparseCategoricalAccuracy()\n",
    ")\n",
    "bert_model.trainable = True\n",
    "bert_model.summary()"
   ]
  },
  {
   "cell_type": "code",
   "execution_count": 108,
   "id": "4d5934ec-d1d6-46c6-aaf9-90ae661b70db",
   "metadata": {},
   "outputs": [
    {
     "name": "stdout",
     "output_type": "stream",
     "text": [
      "Epoch 1/2\n",
      "127/127 [==============================] - 2484s 19s/step - loss: 0.4904 - sparse_categorical_accuracy: 0.7665 - val_loss: 0.4263 - val_sparse_categorical_accuracy: 0.8195\n",
      "Epoch 2/2\n",
      "127/127 [==============================] - 2186s 17s/step - loss: 0.3574 - sparse_categorical_accuracy: 0.8568 - val_loss: 0.4483 - val_sparse_categorical_accuracy: 0.8235\n"
     ]
    }
   ],
   "source": [
    "history = bert_model.fit(\n",
    "    [input_ids_tr_val,attention_mask_tr_val],\n",
    "    y_tr_val,\n",
    "    batch_size = 48,\n",
    "    epochs = 2,\n",
    "    validation_data = ([input_ids_te_val,attention_mask_te_val],y_te_val)\n",
    ")"
   ]
  },
  {
   "cell_type": "code",
   "execution_count": 109,
   "id": "8c12b61d-f4bb-4391-9efb-a8d7c0b326d3",
   "metadata": {},
   "outputs": [
    {
     "data": {
      "image/png": "[encoded data removed]",
      "text/plain": [
       "<Figure size 720x360 with 2 Axes>"
      ]
     },
     "metadata": {
      "needs_background": "light"
     },
     "output_type": "display_data"
    }
   ],
   "source": [
    "plot_history(history)\n",
    "plt.show()"
   ]
  },
  {
   "cell_type": "code",
   "execution_count": 110,
   "id": "07b1fb5f-0e05-4e91-afa1-0f34055af545",
   "metadata": {},
   "outputs": [],
   "source": [
    "length = max([max([len(i) for i in tr]), max([len(i) for i in te])])"
   ]
  },
  {
   "cell_type": "code",
   "execution_count": 111,
   "id": "87341836-ad10-46a3-aaac-df00323616a9",
   "metadata": {},
   "outputs": [
    {
     "name": "stdout",
     "output_type": "stream",
     "text": [
      "3263\n",
      "3263\n",
      "7613\n",
      "7613\n",
      "7613\n"
     ]
    }
   ],
   "source": [
    "input_ids_te, attention_mask_te = prepareBERT(length, te)\n",
    "input_ids_tr, attention_mask_tr = prepareBERT(length, tr, y)"
   ]
  },
  {
   "cell_type": "code",
   "execution_count": 112,
   "id": "3a477d15-39ad-4bf6-9fee-9caa1516b971",
   "metadata": {},
   "outputs": [
    {
     "name": "stdout",
     "output_type": "stream",
     "text": [
      "Model: \"tf_bert_for_sequence_classification\"\n",
      "_________________________________________________________________\n",
      " Layer (type)                Output Shape              Param #   \n",
      "=================================================================\n",
      " bert (TFBertMainLayer)      multiple                  109482240 \n",
      "                                                                 \n",
      " dropout_43 (Dropout)        multiple                  0         \n",
      "                                                                 \n",
      " classifier (Dense)          multiple                  1538      \n",
      "                                                                 \n",
      "=================================================================\n",
      "Total params: 109,483,778\n",
      "Trainable params: 109,483,778\n",
      "Non-trainable params: 0\n",
      "_________________________________________________________________\n"
     ]
    }
   ],
   "source": [
    "bert_model.compile(\n",
    "    loss = loss, \n",
    "    optimizer = optimizer, \n",
    "    metrics = SparseCategoricalAccuracy()\n",
    ")\n",
    "bert_model.trainable = True\n",
    "bert_model.summary()"
   ]
  },
  {
   "cell_type": "code",
   "execution_count": 113,
   "id": "52d784db-ff3d-458b-9cc6-c13db4fca19f",
   "metadata": {},
   "outputs": [
    {
     "name": "stdout",
     "output_type": "stream",
     "text": [
      "Epoch 1/2\n",
      "159/159 [==============================] - 2983s 19s/step - loss: 0.3184 - sparse_categorical_accuracy: 0.8752\n",
      "Epoch 2/2\n",
      "159/159 [==============================] - 3189s 20s/step - loss: 0.2497 - sparse_categorical_accuracy: 0.9045\n"
     ]
    }
   ],
   "source": [
    "history = bert_model.fit(\n",
    "    [input_ids_tr,attention_mask_tr],\n",
    "    y,\n",
    "    batch_size = 48,\n",
    "    epochs = 2\n",
    ")"
   ]
  },
  {
   "cell_type": "code",
   "execution_count": 114,
   "id": "f830fd0a-03ec-4f9d-a620-7d99d16ffc8a",
   "metadata": {},
   "outputs": [],
   "source": [
    "Predictions = bert_model.predict(\n",
    "   [input_ids_te, attention_mask_te],\n",
    "    batch_size = 48\n",
    ")"
   ]
  },
  {
   "cell_type": "code",
   "execution_count": 115,
   "id": "11813997-df8f-47bb-9126-f775b5f03df4",
   "metadata": {},
   "outputs": [],
   "source": [
    "Predictions = [i[1] for i in softmax(Predictions[0]).numpy().tolist()]"
   ]
  },
  {
   "cell_type": "code",
   "execution_count": 116,
   "id": "9a41e48d-7899-42bc-96a3-2176f6087bce",
   "metadata": {},
   "outputs": [
    {
     "data": {
      "image/png": "[encoded data removed]",
      "text/plain": [
       "<Figure size 800x400 with 1 Axes>"
      ]
     },
     "metadata": {
      "needs_background": "light"
     },
     "output_type": "display_data"
    }
   ],
   "source": [
    "comHist(baseline, Predictions, \"BERT\")"
   ]
  },
  {
   "cell_type": "code",
   "execution_count": 117,
   "id": "b5d55b9a-fd72-42ec-93c6-5323cd6679a3",
   "metadata": {},
   "outputs": [
    {
     "data": {
      "text/html": [
       "<div>\n",
       "<style scoped>\n",
       "    .dataframe tbody tr th:only-of-type {\n",
       "        vertical-align: middle;\n",
       "    }\n",
       "\n",
       "    .dataframe tbody tr th {\n",
       "        vertical-align: top;\n",
       "    }\n",
       "\n",
       "    .dataframe thead th {\n",
       "        text-align: right;\n",
       "    }\n",
       "</style>\n",
       "<table border=\"1\" class=\"dataframe\">\n",
       "  <thead>\n",
       "    <tr style=\"text-align: right;\">\n",
       "      <th></th>\n",
       "      <th>id</th>\n",
       "      <th>target</th>\n",
       "    </tr>\n",
       "  </thead>\n",
       "  <tbody>\n",
       "    <tr>\n",
       "      <th>0</th>\n",
       "      <td>0</td>\n",
       "      <td>1</td>\n",
       "    </tr>\n",
       "    <tr>\n",
       "      <th>1</th>\n",
       "      <td>2</td>\n",
       "      <td>1</td>\n",
       "    </tr>\n",
       "    <tr>\n",
       "      <th>2</th>\n",
       "      <td>3</td>\n",
       "      <td>1</td>\n",
       "    </tr>\n",
       "    <tr>\n",
       "      <th>3</th>\n",
       "      <td>9</td>\n",
       "      <td>1</td>\n",
       "    </tr>\n",
       "    <tr>\n",
       "      <th>4</th>\n",
       "      <td>11</td>\n",
       "      <td>1</td>\n",
       "    </tr>\n",
       "    <tr>\n",
       "      <th>5</th>\n",
       "      <td>12</td>\n",
       "      <td>1</td>\n",
       "    </tr>\n",
       "    <tr>\n",
       "      <th>6</th>\n",
       "      <td>21</td>\n",
       "      <td>0</td>\n",
       "    </tr>\n",
       "  </tbody>\n",
       "</table>\n",
       "</div>"
      ],
      "text/plain": [
       "   id  target\n",
       "0   0       1\n",
       "1   2       1\n",
       "2   3       1\n",
       "3   9       1\n",
       "4  11       1\n",
       "5  12       1\n",
       "6  21       0"
      ]
     },
     "execution_count": 117,
     "metadata": {},
     "output_type": "execute_result"
    }
   ],
   "source": [
    "subm[\"target\"] = [1 if i > 0.5 else 0 for i in Predictions]\n",
    "subm.head(7)"
   ]
  },
  {
   "cell_type": "code",
   "execution_count": 118,
   "id": "a8b12d71-a553-4157-bdf4-c28f0964e328",
   "metadata": {},
   "outputs": [],
   "source": [
    "subm.to_csv(\"Submission_BERT.csv\", index=False)"
   ]
  },
  {
   "cell_type": "code",
   "execution_count": 120,
   "id": "22573f2f-7acd-4424-80be-5ff7bae73b44",
   "metadata": {},
   "outputs": [],
   "source": [
    "s1 = pd.read_csv(\"./Submission_Basic.csv\")\n",
    "s2 = pd.read_csv(\"./Submission_W2V.csv\")\n",
    "s3 = pd.read_csv(\"./Submission_W2V_Embed.csv\")\n",
    "s4 = pd.read_csv(\"./Submission_BERT.csv\")\n",
    "\n",
    "subm = pd.read_csv(\"input/sample_submission.csv\")\n",
    "\n",
    "Voting = np.where(s1.target + s2.target + s3.target + s4.target + s4.target >= 3, 1, 0)\n",
    "\n",
    "subm[\"target\"] = Voting\n",
    "subm.head(7)\n",
    "\n",
    "subm.to_csv(\"Submission_Voting.csv\", index=False)"
   ]
  },
  {
   "cell_type": "code",
   "execution_count": null,
   "id": "b8634634-9f4b-4a6a-9b21-01989408ff69",
   "metadata": {},
   "outputs": [],
   "source": []
  }
 ],
 "metadata": {
  "kernelspec": {
   "display_name": "Python 3 (ipykernel)",
   "language": "python",
   "name": "python3"
  },
  "language_info": {
   "codemirror_mode": {
    "name": "ipython",
    "version": 3
   },
   "file_extension": ".py",
   "mimetype": "text/x-python",
   "name": "python",
   "nbconvert_exporter": "python",
   "pygments_lexer": "ipython3",
   "version": "3.9.7"
  }
 },
 "nbformat": 4,
 "nbformat_minor": 5
}
